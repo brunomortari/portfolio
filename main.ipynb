{
 "cells": [
  {
   "cell_type": "code",
   "execution_count": 2,
   "metadata": {},
   "outputs": [],
   "source": [
    "import pandas as pd"
   ]
  },
  {
   "cell_type": "code",
   "execution_count": 9,
   "metadata": {},
   "outputs": [],
   "source": [
    "df = pd.read_csv('covid/csv/caso_full.csv', usecols = ['city_ibge_code','date','epidemiological_week','estimated_population','new_confirmed','new_deaths'])"
   ]
  },
  {
   "cell_type": "code",
   "execution_count": 57,
   "metadata": {},
   "outputs": [],
   "source": [
    "# treatment and cleaning\n",
    "df = df.loc[df['city_ibge_code'] > 100]\n",
    "df = df.loc[pd.notna(df['city_ibge_code'])]\n",
    "df['city_ibge_code'] = df['city_ibge_code'].astype('int64')\n",
    "df['estimated_population'] = df['estimated_population'].astype('int64')\n",
    "df['date'] = df['date'].str.replace('-','')"
   ]
  },
  {
   "cell_type": "code",
   "execution_count": 59,
   "metadata": {},
   "outputs": [],
   "source": [
    "df.to_csv('covid/csv/base.csv')"
   ]
  }
 ],
 "metadata": {
  "interpreter": {
   "hash": "8c3b84751f68a8f51673cd6b89825cb24f21383a3a3fbbd5cd04f3ee7fbe65e0"
  },
  "kernelspec": {
   "display_name": "Python 3.8.10 64-bit ('venv': venv)",
   "name": "python3"
  },
  "language_info": {
   "codemirror_mode": {
    "name": "ipython",
    "version": 3
   },
   "file_extension": ".py",
   "mimetype": "text/x-python",
   "name": "python",
   "nbconvert_exporter": "python",
   "pygments_lexer": "ipython3",
   "version": "3.8.10"
  },
  "orig_nbformat": 4
 },
 "nbformat": 4,
 "nbformat_minor": 2
}
