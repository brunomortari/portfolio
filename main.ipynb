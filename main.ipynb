{
 "cells": [
  {
   "cell_type": "code",
   "execution_count": 1,
   "metadata": {},
   "outputs": [],
   "source": [
    "# BILIOTECAS\n",
    "import pandas as pd\n",
    "from urllib.request import Request, urlopen"
   ]
  },
  {
   "cell_type": "code",
   "execution_count": 2,
   "metadata": {},
   "outputs": [],
   "source": [
    "# DATA 1: COVID\n",
    "req = Request('https://data.brasil.io/dataset/covid19/caso_full.csv.gz')\n",
    "req.add_header('User-Agent', 'Mozilla/5.0 (X11; Ubuntu; Linux x86_64; rv:77.0) Gecko/20100101 Firefox/77.0')\n",
    "content = urlopen(req)\n",
    "df = pd.read_csv(content, compression='gzip')"
   ]
  },
  {
   "cell_type": "code",
   "execution_count": 10,
   "metadata": {},
   "outputs": [],
   "source": [
    "# DATA 2: LATLONG\n",
    "df_latlong = pd.read_csv('https://raw.githubusercontent.com/kelvins/Municipios-Brasileiros/main/csv/municipios.csv')"
   ]
  },
  {
   "cell_type": "code",
   "execution_count": 4,
   "metadata": {},
   "outputs": [],
   "source": [
    "# treatment and cleaning\n",
    "df = df[['city_ibge_code','date','epidemiological_week','estimated_population','new_confirmed','new_deaths']]\n",
    "df = df.loc[df['city_ibge_code'] > 100]\n",
    "df = df.loc[pd.notna(df['city_ibge_code'])]\n",
    "df['city_ibge_code'] = df['city_ibge_code'].astype('int64')\n",
    "df['estimated_population'] = df['estimated_population'].astype('int64')\n",
    "df['date'] = df['date'].str.replace('-','')"
   ]
  },
  {
   "cell_type": "code",
   "execution_count": 13,
   "metadata": {},
   "outputs": [
    {
     "name": "stdout",
     "output_type": "stream",
     "text": [
      "<class 'pandas.core.frame.DataFrame'>\n",
      "RangeIndex: 5570 entries, 0 to 5569\n",
      "Data columns (total 9 columns):\n",
      " #   Column        Non-Null Count  Dtype  \n",
      "---  ------        --------------  -----  \n",
      " 0   codigo_ibge   5570 non-null   int64  \n",
      " 1   nome          5570 non-null   object \n",
      " 2   latitude      5570 non-null   float64\n",
      " 3   longitude     5570 non-null   float64\n",
      " 4   capital       5570 non-null   int64  \n",
      " 5   codigo_uf     5570 non-null   int64  \n",
      " 6   siafi_id      5570 non-null   int64  \n",
      " 7   ddd           5570 non-null   int64  \n",
      " 8   fuso_horario  5570 non-null   object \n",
      "dtypes: float64(2), int64(5), object(2)\n",
      "memory usage: 391.8+ KB\n"
     ]
    }
   ],
   "source": [
    "df_latlong.info()"
   ]
  },
  {
   "cell_type": "code",
   "execution_count": 6,
   "metadata": {},
   "outputs": [
    {
     "name": "stdout",
     "output_type": "stream",
     "text": [
      "<class 'pandas.core.frame.DataFrame'>\n",
      "Int64Index: 2967673 entries, 0 to 2994398\n",
      "Data columns (total 6 columns):\n",
      " #   Column                Dtype \n",
      "---  ------                ----- \n",
      " 0   city_ibge_code        int64 \n",
      " 1   date                  object\n",
      " 2   epidemiological_week  int64 \n",
      " 3   estimated_population  int64 \n",
      " 4   new_confirmed         int64 \n",
      " 5   new_deaths            int64 \n",
      "dtypes: int64(5), object(1)\n",
      "memory usage: 158.5+ MB\n"
     ]
    }
   ],
   "source": [
    "df.info()"
   ]
  },
  {
   "cell_type": "code",
   "execution_count": 11,
   "metadata": {},
   "outputs": [
    {
     "data": {
      "text/html": [
       "<div>\n",
       "<style scoped>\n",
       "    .dataframe tbody tr th:only-of-type {\n",
       "        vertical-align: middle;\n",
       "    }\n",
       "\n",
       "    .dataframe tbody tr th {\n",
       "        vertical-align: top;\n",
       "    }\n",
       "\n",
       "    .dataframe thead th {\n",
       "        text-align: right;\n",
       "    }\n",
       "</style>\n",
       "<table border=\"1\" class=\"dataframe\">\n",
       "  <thead>\n",
       "    <tr style=\"text-align: right;\">\n",
       "      <th></th>\n",
       "      <th>nome</th>\n",
       "      <th>latitude</th>\n",
       "      <th>longitude</th>\n",
       "      <th>capital</th>\n",
       "      <th>codigo_uf</th>\n",
       "      <th>siafi_id</th>\n",
       "      <th>ddd</th>\n",
       "      <th>fuso_horario</th>\n",
       "    </tr>\n",
       "    <tr>\n",
       "      <th>codigo_ibge</th>\n",
       "      <th></th>\n",
       "      <th></th>\n",
       "      <th></th>\n",
       "      <th></th>\n",
       "      <th></th>\n",
       "      <th></th>\n",
       "      <th></th>\n",
       "      <th></th>\n",
       "    </tr>\n",
       "  </thead>\n",
       "  <tbody>\n",
       "    <tr>\n",
       "      <th>5200050</th>\n",
       "      <td>Abadia de Goiás</td>\n",
       "      <td>-16.75730</td>\n",
       "      <td>-49.4412</td>\n",
       "      <td>0</td>\n",
       "      <td>52</td>\n",
       "      <td>1050</td>\n",
       "      <td>62</td>\n",
       "      <td>America/Sao_Paulo</td>\n",
       "    </tr>\n",
       "    <tr>\n",
       "      <th>3100104</th>\n",
       "      <td>Abadia dos Dourados</td>\n",
       "      <td>-18.48310</td>\n",
       "      <td>-47.3916</td>\n",
       "      <td>0</td>\n",
       "      <td>31</td>\n",
       "      <td>4001</td>\n",
       "      <td>34</td>\n",
       "      <td>America/Sao_Paulo</td>\n",
       "    </tr>\n",
       "    <tr>\n",
       "      <th>5200100</th>\n",
       "      <td>Abadiânia</td>\n",
       "      <td>-16.19700</td>\n",
       "      <td>-48.7057</td>\n",
       "      <td>0</td>\n",
       "      <td>52</td>\n",
       "      <td>9201</td>\n",
       "      <td>62</td>\n",
       "      <td>America/Sao_Paulo</td>\n",
       "    </tr>\n",
       "    <tr>\n",
       "      <th>3100203</th>\n",
       "      <td>Abaeté</td>\n",
       "      <td>-19.15510</td>\n",
       "      <td>-45.4444</td>\n",
       "      <td>0</td>\n",
       "      <td>31</td>\n",
       "      <td>4003</td>\n",
       "      <td>37</td>\n",
       "      <td>America/Sao_Paulo</td>\n",
       "    </tr>\n",
       "    <tr>\n",
       "      <th>1500107</th>\n",
       "      <td>Abaetetuba</td>\n",
       "      <td>-1.72183</td>\n",
       "      <td>-48.8788</td>\n",
       "      <td>0</td>\n",
       "      <td>15</td>\n",
       "      <td>401</td>\n",
       "      <td>91</td>\n",
       "      <td>America/Sao_Paulo</td>\n",
       "    </tr>\n",
       "    <tr>\n",
       "      <th>...</th>\n",
       "      <td>...</td>\n",
       "      <td>...</td>\n",
       "      <td>...</td>\n",
       "      <td>...</td>\n",
       "      <td>...</td>\n",
       "      <td>...</td>\n",
       "      <td>...</td>\n",
       "      <td>...</td>\n",
       "    </tr>\n",
       "    <tr>\n",
       "      <th>2933604</th>\n",
       "      <td>Xique-Xique</td>\n",
       "      <td>-10.82300</td>\n",
       "      <td>-42.7245</td>\n",
       "      <td>0</td>\n",
       "      <td>29</td>\n",
       "      <td>3971</td>\n",
       "      <td>74</td>\n",
       "      <td>America/Sao_Paulo</td>\n",
       "    </tr>\n",
       "    <tr>\n",
       "      <th>2517407</th>\n",
       "      <td>Zabelê</td>\n",
       "      <td>-8.07901</td>\n",
       "      <td>-37.1057</td>\n",
       "      <td>0</td>\n",
       "      <td>25</td>\n",
       "      <td>542</td>\n",
       "      <td>83</td>\n",
       "      <td>America/Sao_Paulo</td>\n",
       "    </tr>\n",
       "    <tr>\n",
       "      <th>3557154</th>\n",
       "      <td>Zacarias</td>\n",
       "      <td>-21.05060</td>\n",
       "      <td>-50.0552</td>\n",
       "      <td>0</td>\n",
       "      <td>35</td>\n",
       "      <td>2973</td>\n",
       "      <td>18</td>\n",
       "      <td>America/Sao_Paulo</td>\n",
       "    </tr>\n",
       "    <tr>\n",
       "      <th>2114007</th>\n",
       "      <td>Zé Doca</td>\n",
       "      <td>-3.27014</td>\n",
       "      <td>-45.6553</td>\n",
       "      <td>0</td>\n",
       "      <td>21</td>\n",
       "      <td>1287</td>\n",
       "      <td>98</td>\n",
       "      <td>America/Sao_Paulo</td>\n",
       "    </tr>\n",
       "    <tr>\n",
       "      <th>4219853</th>\n",
       "      <td>Zortéa</td>\n",
       "      <td>-27.45210</td>\n",
       "      <td>-51.5520</td>\n",
       "      <td>0</td>\n",
       "      <td>42</td>\n",
       "      <td>950</td>\n",
       "      <td>49</td>\n",
       "      <td>America/Sao_Paulo</td>\n",
       "    </tr>\n",
       "  </tbody>\n",
       "</table>\n",
       "<p>5570 rows × 8 columns</p>\n",
       "</div>"
      ],
      "text/plain": [
       "                            nome  latitude  longitude  capital  codigo_uf  \\\n",
       "codigo_ibge                                                                 \n",
       "5200050          Abadia de Goiás -16.75730   -49.4412        0         52   \n",
       "3100104      Abadia dos Dourados -18.48310   -47.3916        0         31   \n",
       "5200100                Abadiânia -16.19700   -48.7057        0         52   \n",
       "3100203                   Abaeté -19.15510   -45.4444        0         31   \n",
       "1500107               Abaetetuba  -1.72183   -48.8788        0         15   \n",
       "...                          ...       ...        ...      ...        ...   \n",
       "2933604              Xique-Xique -10.82300   -42.7245        0         29   \n",
       "2517407                   Zabelê  -8.07901   -37.1057        0         25   \n",
       "3557154                 Zacarias -21.05060   -50.0552        0         35   \n",
       "2114007                  Zé Doca  -3.27014   -45.6553        0         21   \n",
       "4219853                   Zortéa -27.45210   -51.5520        0         42   \n",
       "\n",
       "             siafi_id  ddd       fuso_horario  \n",
       "codigo_ibge                                    \n",
       "5200050          1050   62  America/Sao_Paulo  \n",
       "3100104          4001   34  America/Sao_Paulo  \n",
       "5200100          9201   62  America/Sao_Paulo  \n",
       "3100203          4003   37  America/Sao_Paulo  \n",
       "1500107           401   91  America/Sao_Paulo  \n",
       "...               ...  ...                ...  \n",
       "2933604          3971   74  America/Sao_Paulo  \n",
       "2517407           542   83  America/Sao_Paulo  \n",
       "3557154          2973   18  America/Sao_Paulo  \n",
       "2114007          1287   98  America/Sao_Paulo  \n",
       "4219853           950   49  America/Sao_Paulo  \n",
       "\n",
       "[5570 rows x 8 columns]"
      ]
     },
     "execution_count": 11,
     "metadata": {},
     "output_type": "execute_result"
    }
   ],
   "source": [
    "df_latlong.set_index('codigo_ibge')"
   ]
  },
  {
   "cell_type": "code",
   "execution_count": 15,
   "metadata": {},
   "outputs": [],
   "source": [
    "df_f = df.join(df_latlong.set_index('codigo_ibge'), on = 'city_ibge_code', how = 'left')"
   ]
  },
  {
   "cell_type": "code",
   "execution_count": 17,
   "metadata": {},
   "outputs": [],
   "source": [
    "df_f = df_f[['city_ibge_code','date','epidemiological_week','estimated_population','new_confirmed','new_deaths','latitude','longitude']]"
   ]
  },
  {
   "cell_type": "code",
   "execution_count": 18,
   "metadata": {},
   "outputs": [
    {
     "name": "stdout",
     "output_type": "stream",
     "text": [
      "<class 'pandas.core.frame.DataFrame'>\n",
      "Int64Index: 2967673 entries, 0 to 2994398\n",
      "Data columns (total 8 columns):\n",
      " #   Column                Dtype  \n",
      "---  ------                -----  \n",
      " 0   city_ibge_code        int64  \n",
      " 1   date                  object \n",
      " 2   epidemiological_week  int64  \n",
      " 3   estimated_population  int64  \n",
      " 4   new_confirmed         int64  \n",
      " 5   new_deaths            int64  \n",
      " 6   latitude              float64\n",
      " 7   longitude             float64\n",
      "dtypes: float64(2), int64(5), object(1)\n",
      "memory usage: 203.8+ MB\n"
     ]
    }
   ],
   "source": [
    "df_f.info()"
   ]
  }
 ],
 "metadata": {
  "interpreter": {
   "hash": "8c3b84751f68a8f51673cd6b89825cb24f21383a3a3fbbd5cd04f3ee7fbe65e0"
  },
  "kernelspec": {
   "display_name": "Python 3.8.10 64-bit ('venv': venv)",
   "name": "python3"
  },
  "language_info": {
   "codemirror_mode": {
    "name": "ipython",
    "version": 3
   },
   "file_extension": ".py",
   "mimetype": "text/x-python",
   "name": "python",
   "nbconvert_exporter": "python",
   "pygments_lexer": "ipython3",
   "version": "3.8.10"
  },
  "orig_nbformat": 4
 },
 "nbformat": 4,
 "nbformat_minor": 2
}
