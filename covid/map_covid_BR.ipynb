{
 "cells": [
  {
   "cell_type": "code",
   "execution_count": 1,
   "metadata": {},
   "outputs": [],
   "source": [
    "# BILIOTECAS\n",
    "import pandas as pd\n",
    "from urllib.request import Request, urlopen\n",
    "import plotly.express as px\n",
    "import plotly.io as pio # RENDER IN NOTEBOOK\n",
    "#import chart_studio\n",
    "#import chart_studio.plotly as py\n",
    "\n",
    "# IMPORTANDO API-KEY CHART STUDIO\n",
    "#from covid.api_key import api_key"
   ]
  },
  {
   "cell_type": "code",
   "execution_count": 2,
   "metadata": {},
   "outputs": [],
   "source": [
    "#pio.renderers.default = \"notebook_connected\" # PARA RENDERIZAR NO NOTEBOOK\n",
    "#chart_studio.tools.set_credentials_file(username = 'user.name', api_key = api_key) # AUTH PARA CHART STUDIO"
   ]
  },
  {
   "cell_type": "code",
   "execution_count": 3,
   "metadata": {},
   "outputs": [],
   "source": [
    "# DATA 1: COVID\n",
    "req = Request('https://data.brasil.io/dataset/covid19/caso_full.csv.gz')\n",
    "req.add_header('User-Agent', 'Mozilla/5.0 (X11; Ubuntu; Linux x86_64; rv:77.0) Gecko/20100101 Firefox/77.0')\n",
    "content = urlopen(req)\n",
    "df_covid = pd.read_csv(content, compression='gzip')"
   ]
  },
  {
   "cell_type": "code",
   "execution_count": 4,
   "metadata": {},
   "outputs": [],
   "source": [
    "# DATA 2: LATLONG\n",
    "df_latlong = pd.read_csv('https://raw.githubusercontent.com/kelvins/Municipios-Brasileiros/main/csv/municipios.csv')"
   ]
  },
  {
   "cell_type": "code",
   "execution_count": 5,
   "metadata": {},
   "outputs": [],
   "source": [
    "# treatment and cleaning\n",
    "df_covid = df_covid[['city','city_ibge_code','epidemiological_week','new_confirmed','new_deaths']]\n",
    "df_covid = df_covid.loc[df_covid['city_ibge_code'] > 100] # Excluir Estados\n",
    "df_covid = df_covid.loc[pd.notna(df_covid['city_ibge_code'])]\n",
    "df_covid['city_ibge_code'] = df_covid['city_ibge_code'].astype('int64')\n",
    "df_covid = df_covid.loc[df_covid['new_confirmed'] >= 0] "
   ]
  },
  {
   "cell_type": "code",
   "execution_count": 6,
   "metadata": {},
   "outputs": [],
   "source": [
    "# join df_covid and df_latlong\n",
    "df_latlong.set_index('codigo_ibge')\n",
    "df = df_covid.join(df_latlong.set_index('codigo_ibge'), on = 'city_ibge_code', how = 'left')\n",
    "\n",
    "df = df[['city','city_ibge_code','epidemiological_week','new_confirmed','latitude','longitude']]"
   ]
  },
  {
   "cell_type": "code",
   "execution_count": 7,
   "metadata": {},
   "outputs": [],
   "source": [
    "# group by epidemiological_week\n",
    "df_final = df.groupby(['city','city_ibge_code','epidemiological_week','latitude','longitude'], as_index = False).sum()\n",
    "\n",
    "# final adjust\n",
    "df_final = df_final.sort_values(by = ['epidemiological_week'], ascending = True)"
   ]
  },
  {
   "cell_type": "code",
   "execution_count": 18,
   "metadata": {},
   "outputs": [],
   "source": [
    "fig = px.scatter_mapbox(df_final,\n",
    "                        title = 'Evolução de casos notificados de COVID no Brasil a partir da 09º Semana Epidemiológica de 2020',\n",
    "                        lat = 'latitude', \n",
    "                        lon = 'longitude', \n",
    "                        size = 'new_confirmed', \n",
    "                        mapbox_style='carto-positron',\n",
    "                        zoom = 3.5, \n",
    "                        animation_frame = 'epidemiological_week',\n",
    "                        hover_name = 'city',\n",
    "                        color_discrete_sequence=[\"red\"],\n",
    "                        size_max = 20,\n",
    "                        opacity = 0.5,\n",
    "                        )"
   ]
  },
  {
   "cell_type": "code",
   "execution_count": null,
   "metadata": {},
   "outputs": [],
   "source": [
    "fig.write_html(\"covid/file.html\")"
   ]
  },
  {
   "cell_type": "code",
   "execution_count": null,
   "metadata": {},
   "outputs": [],
   "source": [
    "#py.plot(fig, filename = 'plotly_mapbox_scatter', auto_open=True) # PARA SUBIR NA CLOUD CHART_STUDIO\n",
    "#fig.show() # PARA RENDERIZAR NO NOTEBOOK"
   ]
  }
 ],
 "metadata": {
  "interpreter": {
   "hash": "8c3b84751f68a8f51673cd6b89825cb24f21383a3a3fbbd5cd04f3ee7fbe65e0"
  },
  "kernelspec": {
   "display_name": "Python 3.8.10 64-bit ('venv': venv)",
   "name": "python3"
  },
  "language_info": {
   "codemirror_mode": {
    "name": "ipython",
    "version": 3
   },
   "file_extension": ".py",
   "mimetype": "text/x-python",
   "name": "python",
   "nbconvert_exporter": "python",
   "pygments_lexer": "ipython3",
   "version": "3.8.10"
  },
  "orig_nbformat": 4
 },
 "nbformat": 4,
 "nbformat_minor": 2
}
