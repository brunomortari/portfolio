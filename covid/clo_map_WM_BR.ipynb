{
 "cells": [
  {
   "cell_type": "code",
   "execution_count": null,
   "metadata": {},
   "outputs": [],
   "source": [
    "# BILIOTECAS\n",
    "# webscrapy\n",
    "from urllib.request import Request, urlopen\n",
    "import json\n",
    "\n",
    "# data work\n",
    "import pandas as pd\n",
    "\n",
    "# graph\n",
    "import plotly.express as px\n",
    "import dash\n",
    "from dash import dcc\n",
    "from dash import html\n",
    "import io\n",
    "from base64 import b64encode"
   ]
  },
  {
   "cell_type": "code",
   "execution_count": null,
   "metadata": {},
   "outputs": [],
   "source": [
    "# DATA 1: GeoJson\n",
    "with urlopen('https://raw.githubusercontent.com/tbrugz/geodata-br/master/geojson/geojs-100-mun.json') as response:\n",
    "    geobr = json.load(response)"
   ]
  },
  {
   "cell_type": "code",
   "execution_count": null,
   "metadata": {},
   "outputs": [],
   "source": [
    "# separate WestMiddle\n",
    "for i in range(len(geobr['features'])-1, -1, -1):\n",
    "    if geobr['features'][i]['properties']['id'][0:2] not in ['50','51','52','53']:\n",
    "        geobr['features'].pop(i)"
   ]
  },
  {
   "cell_type": "code",
   "execution_count": null,
   "metadata": {},
   "outputs": [],
   "source": [
    "# DATA 2: COVID BR\n",
    "req = Request('https://data.brasil.io/dataset/covid19/caso_full.csv.gz')\n",
    "req.add_header('User-Agent', 'Mozilla/5.0 (X11; Ubuntu; Linux x86_64; rv:77.0) Gecko/20100101 Firefox/77.0')\n",
    "content = urlopen(req)\n",
    "df_covid = pd.read_csv(content, compression='gzip')"
   ]
  },
  {
   "cell_type": "code",
   "execution_count": null,
   "metadata": {},
   "outputs": [],
   "source": [
    "# treatment and cleaning\n",
    "df_covid = df_covid.loc[df_covid['state'].isin(['GO','MT','MS','DF'])] # separate WestMiddle\n",
    "df_covid = df_covid[['city','city_ibge_code','epidemiological_week','new_confirmed']] # select columns\n",
    "df_covid = df_covid.loc[pd.notna(df_covid['city'])] # excluir nan\n",
    "df_covid = df_covid.loc[pd.notna(df_covid['city_ibge_code'])] # excluir nan\n",
    "df_covid['city_ibge_code'] = df_covid['city_ibge_code'].astype('str') # transform type\n",
    "df_covid['city_ibge_code'] = df_covid['city_ibge_code'].str.replace('\\.0','') # clean data\n",
    "df_covid = df_covid.loc[df_covid['new_confirmed'] >= 0] # clean"
   ]
  },
  {
   "cell_type": "code",
   "execution_count": null,
   "metadata": {},
   "outputs": [],
   "source": [
    "# group by epidemiological_week :: sum days to week\n",
    "df_covid = df_covid.groupby(['city','city_ibge_code','epidemiological_week'], as_index = False).sum()\n",
    "\n",
    "# final adjust :: sorting data\n",
    "df_covid = df_covid.sort_values(by = ['epidemiological_week'], ascending = True)"
   ]
  },
  {
   "cell_type": "code",
   "execution_count": null,
   "metadata": {},
   "outputs": [],
   "source": [
    "# set var buffer \n",
    "buffer = io.StringIO()"
   ]
  },
  {
   "cell_type": "code",
   "execution_count": null,
   "metadata": {},
   "outputs": [],
   "source": [
    "# MAP choropleth_mapbox\n",
    "fig = px.choropleth_mapbox(df_covid, \n",
    "                    geojson = geobr, \n",
    "                    locations = 'city_ibge_code',\n",
    "                    featureidkey = \"properties.id\",\n",
    "                    color = 'new_confirmed',\n",
    "                    color_continuous_scale = \"OrRd\",\n",
    "                    range_color=(0, 300),\n",
    "                    animation_frame = 'epidemiological_week',\n",
    "                    mapbox_style = \"carto-positron\",\n",
    "                    zoom = 4.5,\n",
    "                    center = {\"lat\":-15.6, \"lon\": -52.7},\n",
    "                    opacity = 0.5,\n",
    "                    labels={'new_confirmed':'Casos novos confirmados'}\n",
    "                    )"
   ]
  },
  {
   "cell_type": "code",
   "execution_count": null,
   "metadata": {},
   "outputs": [],
   "source": [
    "# set map in buffer\n",
    "fig.write_html(buffer)"
   ]
  },
  {
   "cell_type": "code",
   "execution_count": null,
   "metadata": {},
   "outputs": [],
   "source": [
    "# serialize buffer e encode\n",
    "html_bytes = buffer.getvalue().encode()\n",
    "encoded = b64encode(html_bytes).decode()\n",
    "\n",
    "# start app dash\n",
    "app = dash.Dash(__name__)"
   ]
  },
  {
   "cell_type": "code",
   "execution_count": null,
   "metadata": {},
   "outputs": [],
   "source": [
    "# add dash layout\n",
    "app.layout = html.Figure([\n",
    "    dcc.Graph(id=\"graph\", figure = fig, style={'width': '1920', 'height': '90vh'})\n",
    "])"
   ]
  },
  {
   "cell_type": "code",
   "execution_count": null,
   "metadata": {},
   "outputs": [],
   "source": [
    "# run server dash\n",
    "app.run_server(debug=True, use_reloader=False)"
   ]
  }
 ],
 "metadata": {
  "interpreter": {
   "hash": "8c3b84751f68a8f51673cd6b89825cb24f21383a3a3fbbd5cd04f3ee7fbe65e0"
  },
  "kernelspec": {
   "display_name": "Python 3.8.10 64-bit ('venv': venv)",
   "language": "python",
   "name": "python3"
  },
  "language_info": {
   "codemirror_mode": {
    "name": "ipython",
    "version": 3
   },
   "file_extension": ".py",
   "mimetype": "text/x-python",
   "name": "python",
   "nbconvert_exporter": "python",
   "pygments_lexer": "ipython3",
   "version": "3.8.10"
  },
  "orig_nbformat": 4
 },
 "nbformat": 4,
 "nbformat_minor": 2
}
