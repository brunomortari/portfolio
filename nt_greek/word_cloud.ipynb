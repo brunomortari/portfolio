{
 "cells": [
  {
   "cell_type": "code",
   "execution_count": null,
   "metadata": {},
   "outputs": [],
   "source": [
    "# BIBLIOTECAS\n",
    "import pandas as pd\n",
    "import xml.etree.ElementTree as ET\n",
    "import requests\n",
    "import matplotlib.pyplot as plt\n",
    "from PIL import Image\n",
    "from wordcloud import WordCloud, STOPWORDS\n",
    "import numpy as np"
   ]
  },
  {
   "cell_type": "code",
   "execution_count": null,
   "metadata": {},
   "outputs": [],
   "source": [
    "# WEBSCRAPPING\n",
    "lista_url = ['01-matthew.xml','02-mark.xml','03-luke.xml','04-john.xml','05-acts.xml','06-romans.xml','07-1corinthians.xml','08-2corinthians.xml','09-galatians.xml',\n",
    "             '10-ephesians.xml','11-philippians.xml','12-colossians.xml','13-1thessalonians.xml','14-2thessalonians.xml','15-1timothy.xml','16-2timothy.xml',\n",
    "             '17-titus.xml','18-philemon.xml','19-hebrews.xml','20-james.xml','21-1peter.xml','22-2peter.xml','23-1john.xml','24-2john.xml','25-3john.xml',\n",
    "             '26-jude.xml','27-revelation.xml']\n",
    "\n",
    "url = \"https://raw.githubusercontent.com/biblicalhumanities/Nestle1904/master/xml/\"\n",
    "\n",
    "\n",
    "for i in lista_url:\n",
    "    with open(i, 'wb') as file:\n",
    "        response = requests.get(url + i)\n",
    "        file.write(response.content)"
   ]
  },
  {
   "cell_type": "code",
   "execution_count": null,
   "metadata": {},
   "outputs": [],
   "source": [
    "lista_nt = []\n",
    "for i in lista_url:\n",
    "    book = ET.parse(i)\n",
    "    root = book.getroot()\n",
    "    for i in root.findall(\"./chapter/p/w\"):\n",
    "        lista_nt.append(i.text)"
   ]
  },
  {
   "cell_type": "code",
   "execution_count": null,
   "metadata": {},
   "outputs": [],
   "source": [
    "df = pd.DataFrame(lista_nt, columns = ['word'])"
   ]
  },
  {
   "cell_type": "code",
   "execution_count": null,
   "metadata": {},
   "outputs": [],
   "source": [
    "counts = df.value_counts()"
   ]
  },
  {
   "cell_type": "code",
   "execution_count": null,
   "metadata": {},
   "outputs": [],
   "source": [
    "stopwords = set(STOPWORDS)\n",
    "stopwords.update(['καὶ','ὁ','δὲ','ἐν','τοῦ','εἰς','τὸ','τὸν','τὴν','αὐτοῦ','ὅτι','τῆς','τῶν','τῷ','οἱ','γὰρ','ἡ','μὴ','αὐτῷ','τῇ','τὰ','οὐκ','τοὺς','πρὸς','αὐτὸν','ἵνα','ἐκ','ἐπὶ','οὐ','αὐτοῖς','αὐτῶν','οὖν','μου','διὰ','ἀπὸ','ὡς','ἀλλὰ','Καὶ','εἰ','ἡμῶν','σου','λέγει','τὰς','ἢ','περὶ','ἦν','αὐτόν','κατὰ','με','τοῦτο','ἐξ','ἀλλ','μοι','τε','ὃ','ταῦτα0','οὕτως','ἡμῖν','καθὼς','ὃν','σε','δι’','δέ','ὑπὲρ'])"
   ]
  },
  {
   "cell_type": "code",
   "execution_count": null,
   "metadata": {},
   "outputs": [],
   "source": [
    "all_words = \" \".join(s for s in lista_nt)"
   ]
  },
  {
   "cell_type": "code",
   "execution_count": null,
   "metadata": {},
   "outputs": [],
   "source": [
    "all_words[0:20]"
   ]
  },
  {
   "cell_type": "code",
   "execution_count": null,
   "metadata": {},
   "outputs": [],
   "source": [
    "wordcloud = WordCloud(font_path = 'Symbola.ttf',\n",
    "                      stopwords = stopwords,\n",
    "                      background_color = \"black\",\n",
    "                      width=1600, height=800).generate(all_words)"
   ]
  },
  {
   "cell_type": "code",
   "execution_count": null,
   "metadata": {},
   "outputs": [],
   "source": [
    "fig, ax = plt.subplots(figsize=(10,6))\n",
    "ax.imshow(wordcloud, interpolation='bilinear')\n",
    "ax.set_axis_off()"
   ]
  },
  {
   "cell_type": "code",
   "execution_count": null,
   "metadata": {},
   "outputs": [],
   "source": [
    "wordcloud.to_file(\"wordcloud.png\")"
   ]
  },
  {
   "cell_type": "code",
   "execution_count": null,
   "metadata": {},
   "outputs": [],
   "source": [
    "cruz_mask = np.array(Image.open(\"cruz_3.jpg\"))"
   ]
  },
  {
   "cell_type": "code",
   "execution_count": null,
   "metadata": {},
   "outputs": [],
   "source": [
    "wordcloud_cruz = WordCloud(font_path = 'Symbola.ttf',\n",
    "                           stopwords = stopwords,\n",
    "                           background_color = \"black\",\n",
    "                           mask=cruz_mask,\n",
    "                           width=1600, height=800).generate(all_words)"
   ]
  },
  {
   "cell_type": "code",
   "execution_count": null,
   "metadata": {},
   "outputs": [],
   "source": [
    "fig, ax = plt.subplots(figsize=(10,6))\n",
    "ax.imshow(wordcloud_cruz, interpolation='bilinear')\n",
    "ax.set_axis_off()"
   ]
  },
  {
   "cell_type": "code",
   "execution_count": null,
   "metadata": {},
   "outputs": [],
   "source": [
    "wordcloud_cruz.to_file(\"wordcloud_cruz.png\")"
   ]
  }
 ],
 "metadata": {
  "interpreter": {
   "hash": "8c3b84751f68a8f51673cd6b89825cb24f21383a3a3fbbd5cd04f3ee7fbe65e0"
  },
  "kernelspec": {
   "display_name": "Python 3.8.10 64-bit ('venv': venv)",
   "language": "python",
   "name": "python3"
  },
  "language_info": {
   "codemirror_mode": {
    "name": "ipython",
    "version": 3
   },
   "file_extension": ".py",
   "mimetype": "text/x-python",
   "name": "python",
   "nbconvert_exporter": "python",
   "pygments_lexer": "ipython3",
   "version": "3.8.10"
  },
  "orig_nbformat": 4
 },
 "nbformat": 4,
 "nbformat_minor": 2
}
